{
 "cells": [
  {
   "cell_type": "markdown",
   "metadata": {},
   "source": [
    "# 通用参数"
   ]
  },
  {
   "cell_type": "code",
   "execution_count": 1,
   "metadata": {},
   "outputs": [],
   "source": [
    "max_len = 512"
   ]
  },
  {
   "cell_type": "markdown",
   "metadata": {},
   "source": [
    "# 分词器"
   ]
  },
  {
   "cell_type": "code",
   "execution_count": 2,
   "metadata": {},
   "outputs": [],
   "source": [
    "from transformers import AutoTokenizer\n",
    "\n",
    "tokenizer_path = \"/data/homework0/models/Llama-2-7b-hf\"\n",
    "tokenizer = AutoTokenizer.from_pretrained(tokenizer_path)\n",
    "tokenizer.pad_token_id =tokenizer.eos_token_id\n",
    "tokenizer.pad_token =tokenizer.eos_token"
   ]
  },
  {
   "cell_type": "markdown",
   "metadata": {},
   "source": [
    "# 数据预处理"
   ]
  },
  {
   "cell_type": "code",
   "execution_count": 3,
   "metadata": {},
   "outputs": [],
   "source": [
    "from datasets import Dataset\n",
    "\n",
    "def process_data(data_path, tokenizer, max_len):\n",
    "    def process_single_data(single_data):\n",
    "        text = \"Context: \" + single_data[\"context\"] + \" Question: \" + single_data[\"question\"]\n",
    "\n",
    "        for index, option in enumerate(single_data[\"answers\"]):\n",
    "            text += \" Option \" + chr(index + 65) + \": \" + option\n",
    "        \n",
    "        single_data = tokenizer(text, padding=True, truncation=True, return_tensors=\"pt\", max_length=max_len)\n",
    "        single_data['input_ids'] = single_data['input_ids'].squeeze(0)\n",
    "        single_data['attention_mask'] = single_data['attention_mask'].squeeze(0)\n",
    "        return single_data\n",
    "\n",
    "    data = Dataset.from_json(data_path)\n",
    "    data = data.map(process_single_data,  num_proc=8, remove_columns=[\"context\", \"question\", \"answers\", \"id_string\"])\n",
    "    data.set_format(\"torch\")\n",
    "    return data"
   ]
  },
  {
   "cell_type": "code",
   "execution_count": 4,
   "metadata": {},
   "outputs": [],
   "source": [
    "train_dataset_path = \"./reclor_data/train.json\"\n",
    "train_dataset = process_data(train_dataset_path, tokenizer, max_len)\n",
    "val_dataset_path = \"./reclor_data/val.json\"\n",
    "val_dataset = process_data(val_dataset_path, tokenizer, max_len)\n",
    "test_dataset_path = \"./reclor_data/test.json\"\n",
    "test_dataset = process_data(test_dataset_path, tokenizer, max_len)"
   ]
  },
  {
   "cell_type": "code",
   "execution_count": 5,
   "metadata": {},
   "outputs": [
    {
     "name": "stdout",
     "output_type": "stream",
     "text": [
      "<class 'datasets.arrow_dataset.Dataset'>\n",
      "<s> Context: In rheumatoid arthritis, the body' s immune system misfunctions by attacking healthy cells in the joints causing the release of a hormone that in turn causes pain and swelling. This hormone is normally activated only in reaction to injury or infection. A new arthritis medication will contain a protein that inhibits the functioning of the hormone that causes pain and swelling in the joints. Question: The statements above, if true, most strongly support which one of the following conclusions? Option A: Unlike aspirin and other medications that reduce pain and swelling and that are currently available, the new medication would repair existing cell damage that had been caused by rheumatoid arthritis. Option B: A patient treated with the new medication for rheumatoid arthritis could sustain a joint injury without becoming aware of it. Option C: Joint diseases other than rheumatoid arthritis would not be affected by the new medication. Option D: The benefits to rheumatoid arthritis sufferers of the new medication would outweigh the medication's possible harmful side effects.\n"
     ]
    }
   ],
   "source": [
    "print(type(train_dataset))\n",
    "print(tokenizer.decode(train_dataset[0][\"input_ids\"]))\n",
    "\n",
    "# train_dataset = train_dataset.select([1, 2, 3, 4, 5, 6, 7, 8, 9])\n",
    "# val_dataset = val_dataset.select([1, 2, 3, 4, 5, 6, 7, 8, 9])"
   ]
  },
  {
   "cell_type": "markdown",
   "metadata": {},
   "source": [
    "## 计算一下各类权重，用于之后的损失计算"
   ]
  },
  {
   "cell_type": "code",
   "execution_count": 6,
   "metadata": {},
   "outputs": [
    {
     "name": "stdout",
     "output_type": "stream",
     "text": [
      "0.9901793339026473 0.9910256410256411 1.0047660311958406 1.0144356955380578\n"
     ]
    }
   ],
   "source": [
    "option0_weights = len(train_dataset.to_pandas()) / (4 * train_dataset.to_pandas().label.value_counts()[0])\n",
    "option1_weights = len(train_dataset.to_pandas()) / (4 * train_dataset.to_pandas().label.value_counts()[1])\n",
    "option2_weights = len(train_dataset.to_pandas()) / (4 * train_dataset.to_pandas().label.value_counts()[2])\n",
    "option3_weights = len(train_dataset.to_pandas()) / (4 * train_dataset.to_pandas().label.value_counts()[3])\n",
    "print(option0_weights, option1_weights, option2_weights, option3_weights)"
   ]
  },
  {
   "cell_type": "markdown",
   "metadata": {},
   "source": [
    "## 数据整理器\n",
    "\n",
    "将所有数据统一填充至 batch 内最长序列的长度"
   ]
  },
  {
   "cell_type": "code",
   "execution_count": 7,
   "metadata": {},
   "outputs": [],
   "source": [
    "from transformers import DataCollatorWithPadding\n",
    "data_collator = DataCollatorWithPadding(tokenizer=tokenizer)"
   ]
  },
  {
   "cell_type": "markdown",
   "metadata": {},
   "source": [
    "# 基座大语言模型"
   ]
  },
  {
   "cell_type": "code",
   "execution_count": 8,
   "metadata": {},
   "outputs": [
    {
     "name": "stderr",
     "output_type": "stream",
     "text": [
      "/data/homework0/anaconda3/envs/wyt/lib/python3.8/site-packages/bitsandbytes/cuda_setup/main.py:107: UserWarning: \n",
      "\n",
      "================================================================================\n",
      "WARNING: Manual override via BNB_CUDA_VERSION env variable detected!\n",
      "BNB_CUDA_VERSION=XXX can be used to load a bitsandbytes version that is different from the PyTorch CUDA version.\n",
      "If this was unintended set the BNB_CUDA_VERSION variable to an empty string: export BNB_CUDA_VERSION=\n",
      "If you use the manual override make sure the right libcudart.so is in your LD_LIBRARY_PATH\n",
      "For example by adding the following to your .bashrc: export LD_LIBRARY_PATH=$LD_LIBRARY_PATH:<path_to_cuda_dir/lib64\n",
      "Loading CUDA version: BNB_CUDA_VERSION=117\n",
      "================================================================================\n",
      "\n",
      "\n",
      "  warn((f'\\n\\n{\"=\"*80}\\n'\n"
     ]
    },
    {
     "data": {
      "application/vnd.jupyter.widget-view+json": {
       "model_id": "007e66a0ba2447bf8d509f5ac77fcb9a",
       "version_major": 2,
       "version_minor": 0
      },
      "text/plain": [
       "Loading checkpoint shards:   0%|          | 0/2 [00:00<?, ?it/s]"
      ]
     },
     "metadata": {},
     "output_type": "display_data"
    },
    {
     "name": "stderr",
     "output_type": "stream",
     "text": [
      "/data/homework0/anaconda3/envs/wyt/lib/python3.8/site-packages/torch/_utils.py:776: UserWarning: TypedStorage is deprecated. It will be removed in the future and UntypedStorage will be the only storage class. This should only matter to you if you are using storages directly.  To access UntypedStorage directly, use tensor.untyped_storage() instead of tensor.storage()\n",
      "  return self.fget.__get__(instance, owner)()\n",
      "Some weights of LlamaForSequenceClassification were not initialized from the model checkpoint at /data/homework0/models/Llama-2-7b-hf and are newly initialized: ['score.weight']\n",
      "You should probably TRAIN this model on a down-stream task to be able to use it for predictions and inference.\n"
     ]
    }
   ],
   "source": [
    "from transformers import AutoModelForSequenceClassification, BitsAndBytesConfig\n",
    "from peft import prepare_model_for_kbit_training, LoraConfig, get_peft_model\n",
    "import torch\n",
    "\n",
    "llama_path = \"/data/homework0/models/Llama-2-7b-hf\"\n",
    "\n",
    "quant_config = BitsAndBytesConfig(\n",
    "    load_in_4bit=True,\n",
    "    bnb_4bit_use_double_quant=True,\n",
    "    bnb_4bit_quant_type=\"nf4\",\n",
    "    bnb_4bit_compute_dtype=torch.bfloat16\n",
    ")\n",
    "\n",
    "llama_model = AutoModelForSequenceClassification.from_pretrained(\n",
    "    llama_path,\n",
    "    num_labels=4,                       # 每个题目有四个选项\n",
    "    offload_folder=\"offload\",\n",
    "    quantization_config=quant_config, \n",
    "    device_map={\"\": 4},\n",
    "    use_cache=False\n",
    ")\n",
    "\n",
    "llama_model.config.pad_token_id = llama_model.config.eos_token_id"
   ]
  },
  {
   "cell_type": "code",
   "execution_count": 9,
   "metadata": {},
   "outputs": [
    {
     "name": "stdout",
     "output_type": "stream",
     "text": [
      "memory usage of model: 3.3 GB\n"
     ]
    }
   ],
   "source": [
    "print(f'memory usage of model: {llama_model.get_memory_footprint() / (1024 * 1024 * 1024):.2} GB')"
   ]
  },
  {
   "cell_type": "markdown",
   "metadata": {},
   "source": [
    "# LoRA设置"
   ]
  },
  {
   "cell_type": "markdown",
   "metadata": {},
   "source": [
    "## 找到需要Lora finetune的Module Names"
   ]
  },
  {
   "cell_type": "code",
   "execution_count": 10,
   "metadata": {},
   "outputs": [
    {
     "data": {
      "text/plain": [
       "['v_proj', 'gate_proj', 'up_proj', 'o_proj', 'down_proj', 'q_proj', 'k_proj']"
      ]
     },
     "execution_count": 10,
     "metadata": {},
     "output_type": "execute_result"
    }
   ],
   "source": [
    "import bitsandbytes as bnb\n",
    "\n",
    "lora_module_names = set()\n",
    "for name, module in llama_model.named_modules():\n",
    "    if isinstance(module, bnb.nn.Linear4bit):\n",
    "        names = name.split('.')\n",
    "        lora_module_names.add(names[0] if len(names) == 1 else names[-1])\n",
    "\n",
    "\n",
    "if 'lm_head' in lora_module_names: # needed for 16-bit or 32-bit\n",
    "    lora_module_names.remove('lm_head')\n",
    "\n",
    "list(lora_module_names)"
   ]
  },
  {
   "cell_type": "code",
   "execution_count": 11,
   "metadata": {},
   "outputs": [
    {
     "name": "stdout",
     "output_type": "stream",
     "text": [
      "trainable params: 39,993,344 || all params: 6,647,353,344 || trainable%: 0.6016\n"
     ]
    }
   ],
   "source": [
    "target_modules = list(lora_module_names)\n",
    "# target_modules = [\"q_proj\", \"v_proj\"]\n",
    "\n",
    "from peft import get_peft_model, LoraConfig, TaskType, prepare_model_for_kbit_training\n",
    "llama_peft_config = LoraConfig(\n",
    "    task_type=TaskType.SEQ_CLS, r=16, lora_alpha=16, lora_dropout=0.05, bias=\"none\",\n",
    "    target_modules=target_modules,\n",
    ")\n",
    "\n",
    "llama_model = prepare_model_for_kbit_training(llama_model) \n",
    "llama_model = get_peft_model(llama_model, llama_peft_config)\n",
    "llama_model.print_trainable_parameters()"
   ]
  },
  {
   "cell_type": "markdown",
   "metadata": {},
   "source": [
    "# 自定义Trainer"
   ]
  },
  {
   "cell_type": "code",
   "execution_count": 12,
   "metadata": {},
   "outputs": [
    {
     "name": "stderr",
     "output_type": "stream",
     "text": [
      "/tmp/ipykernel_8844/3241545351.py:25: FutureWarning: load_metric is deprecated and will be removed in the next major version of datasets. Use 'evaluate.load' instead, from the new library 🤗 Evaluate: https://huggingface.co/docs/evaluate\n",
      "  accuracy_metric = load_metric('accuracy')\n"
     ]
    }
   ],
   "source": [
    "import numpy as np\n",
    "from transformers import TrainingArguments, Trainer\n",
    "\n",
    "device = \"cuda:4\"\n",
    "\n",
    "llama_model = llama_model.to(device)\n",
    "\n",
    "from transformers import Trainer\n",
    "\n",
    "class WeightedCELossTrainer(Trainer):\n",
    "    def compute_loss(self, model, inputs, return_outputs=False):\n",
    "        labels = inputs.pop(\"labels\")\n",
    "        # Get model's predictions\n",
    "        outputs = model(**inputs)\n",
    "        logits = outputs.get(\"logits\")\n",
    "        # Compute custom loss\n",
    "        loss_fct = torch.nn.CrossEntropyLoss(weight=torch.tensor([option0_weights, option1_weights, option2_weights, option3_weights], device=labels.device, dtype=logits.dtype))\n",
    "        loss = loss_fct(logits.view(-1, self.model.config.num_labels), labels.view(-1))\n",
    "        return (loss, outputs) if return_outputs else loss\n",
    "\n",
    "\n",
    "from datasets import load_metric\n",
    "\n",
    "# 加载预定义的指标，例如准确率\n",
    "accuracy_metric = load_metric('accuracy')\n",
    "precision_metric = load_metric(\"precision\")\n",
    "recall_metric = load_metric(\"recall\")\n",
    "f1_metric= load_metric(\"f1\")\n",
    "\n",
    "\n",
    "def compute_metrics(eval_pred):\n",
    "    logits, labels = eval_pred\n",
    "    predictions = np.argmax(logits, axis=-1)\n",
    "    precision = precision_metric.compute(predictions=predictions, references=labels)[\"precision\"]\n",
    "    recall = recall_metric.compute(predictions=predictions, references=labels)[\"recall\"]\n",
    "    f1 = f1_metric.compute(predictions=predictions, references=labels)[\"f1\"]\n",
    "    accuracy = accuracy_metric.compute(predictions=predictions, references=labels)[\"accuracy\"]\n",
    "    return {\"precision\": precision, \"recall\": recall, \"f1-score\": f1, 'accuracy': accuracy}"
   ]
  },
  {
   "cell_type": "markdown",
   "metadata": {},
   "source": [
    "# 废弃的训练过程"
   ]
  },
  {
   "cell_type": "code",
   "execution_count": 13,
   "metadata": {},
   "outputs": [],
   "source": [
    "# lr = 1e-4\n",
    "# batch_size = 2\n",
    "# num_epochs = 3\n",
    "\n",
    "# training_args = TrainingArguments(\n",
    "#     output_dir=\"./llama_lora_output\",\n",
    "#     do_train=True,\n",
    "#     do_eval=True,\n",
    "#     learning_rate=lr,\n",
    "#     lr_scheduler_type= \"constant\",\n",
    "#     warmup_ratio= 0.1,\n",
    "#     max_grad_norm= 0.3,\n",
    "#     per_device_train_batch_size=batch_size,\n",
    "#     per_device_eval_batch_size=batch_size,\n",
    "#     num_train_epochs=num_epochs,\n",
    "#     weight_decay=0.001,\n",
    "#     eval_strategy=\"epoch\",\n",
    "#     save_strategy=\"epoch\",\n",
    "#     load_best_model_at_end=True,\n",
    "#     report_to=\"wandb\",\n",
    "#     fp16=True,\n",
    "#     logging_steps=25,\n",
    "#     save_steps=0,\n",
    "#     gradient_checkpointing=True,\n",
    "# )\n",
    "\n",
    "# llama_trainer = Trainer(\n",
    "#     compute_metrics=compute_metrics,\n",
    "#     model=llama_model,\n",
    "#     args=training_args,\n",
    "#     train_dataset=train_dataset,\n",
    "#     eval_dataset=test_dataset,\n",
    "#     data_collator=data_collator,\n",
    "# )\n",
    "\n",
    "# llama_trainer.train()"
   ]
  },
  {
   "cell_type": "markdown",
   "metadata": {},
   "source": [
    "# 训练"
   ]
  },
  {
   "cell_type": "code",
   "execution_count": 14,
   "metadata": {},
   "outputs": [],
   "source": [
    "from tqdm import tqdm\n",
    "from torch.utils.data import DataLoader\n",
    "\n",
    "lr = 1e-4\n",
    "batch_size = 1\n",
    "num_epochs = 3\n",
    "\n",
    "train_dataloader = DataLoader(\n",
    "    train_dataset, shuffle=True, collate_fn=data_collator, batch_size=batch_size, pin_memory=True\n",
    ")\n",
    "val_dataloader = DataLoader(\n",
    "    val_dataset, collate_fn=data_collator, batch_size=batch_size, pin_memory=True\n",
    ")\n",
    "\n",
    "\n",
    "optimizer = torch.optim.AdamW(params=llama_model.parameters(), lr=lr)\n",
    "\n",
    "def compute_loss(model, inputs, return_outputs=False):\n",
    "    labels = inputs.pop(\"labels\")\n",
    "    # Get model's predictions\n",
    "    outputs = model(**inputs)\n",
    "    logits = outputs.get(\"logits\")\n",
    "    # Compute custom loss\n",
    "    loss_fct = torch.nn.CrossEntropyLoss(weight=torch.tensor([option0_weights, option1_weights, option2_weights, option3_weights], device=labels.device, dtype=logits.dtype))\n",
    "    loss = loss_fct(logits.view(-1, model.config.num_labels), labels.view(-1))\n",
    "    return (loss, outputs) if return_outputs else loss"
   ]
  },
  {
   "cell_type": "code",
   "execution_count": 15,
   "metadata": {},
   "outputs": [],
   "source": [
    "train_hishory_loss = []\n",
    "eval_hishory_loss = []\n",
    "accuracy_history = []"
   ]
  },
  {
   "cell_type": "code",
   "execution_count": 19,
   "metadata": {},
   "outputs": [
    {
     "name": "stdout",
     "output_type": "stream",
     "text": [
      "⬇️⬇️⬇️⬇️⬇️⬇️⬇️⬇️⬇️⬇️⬇️⬇️⬇️⬇️⬇️⬇️⬇️⬇️⬇️⬇️⬇️⬇️⬇️⬇️⬇️⬇️⬇️⬇️⬇️⬇️\n"
     ]
    },
    {
     "name": "stderr",
     "output_type": "stream",
     "text": [
      "Epoch 1 while training:   0%|          | 0/4638 [00:00<?, ?it/s]"
     ]
    },
    {
     "name": "stderr",
     "output_type": "stream",
     "text": [
      "Epoch 1 while training:   9%|▊         | 399/4638 [06:31<1:06:48,  1.06it/s]"
     ]
    },
    {
     "name": "stdout",
     "output_type": "stream",
     "text": [
      "\n",
      "Average Loss: 0.011243651621043682\n",
      "\n",
      "❤️❤️❤️❤️❤️❤️❤️❤️❤️❤️❤️❤️❤️❤️❤️❤️❤️❤️❤️❤️❤️❤️❤️❤️❤️❤️❤️❤️❤️❤️\n"
     ]
    },
    {
     "name": "stderr",
     "output_type": "stream",
     "text": [
      "Epoch 1 while evaluating: 100%|██████████| 500/500 [02:45<00:00,  3.02it/s]\n",
      "Epoch 1 while training:   9%|▊         | 400/4638 [09:18<59:38:18, 50.66s/it]"
     ]
    },
    {
     "name": "stdout",
     "output_type": "stream",
     "text": [
      "\n",
      "Average Loss: 1.5073559284210205\n",
      "Accuracy: 0.6140000224113464\n",
      "\n"
     ]
    },
    {
     "name": "stderr",
     "output_type": "stream",
     "text": [
      "Epoch 1 while training:  17%|█▋        | 799/4638 [13:49<41:14,  1.55it/s]   "
     ]
    },
    {
     "name": "stdout",
     "output_type": "stream",
     "text": [
      "\n",
      "Average Loss: 0.027030501514673233\n",
      "\n",
      "❤️❤️❤️❤️❤️❤️❤️❤️❤️❤️❤️❤️❤️❤️❤️❤️❤️❤️❤️❤️❤️❤️❤️❤️❤️❤️❤️❤️❤️❤️\n"
     ]
    },
    {
     "name": "stderr",
     "output_type": "stream",
     "text": [
      "Epoch 1 while evaluating: 100%|██████████| 500/500 [02:45<00:00,  3.02it/s]\n",
      "Epoch 1 while training:  17%|█▋        | 800/4638 [16:36<53:46:38, 50.44s/it]"
     ]
    },
    {
     "name": "stdout",
     "output_type": "stream",
     "text": [
      "\n",
      "Average Loss: 1.9693115949630737\n",
      "Accuracy: 0.5920000076293945\n",
      "\n"
     ]
    },
    {
     "name": "stderr",
     "output_type": "stream",
     "text": [
      "Epoch 1 while training:  26%|██▌       | 1199/4638 [21:08<38:52,  1.47it/s]  "
     ]
    },
    {
     "name": "stdout",
     "output_type": "stream",
     "text": [
      "\n",
      "Average Loss: 0.044439397752285004\n",
      "\n",
      "❤️❤️❤️❤️❤️❤️❤️❤️❤️❤️❤️❤️❤️❤️❤️❤️❤️❤️❤️❤️❤️❤️❤️❤️❤️❤️❤️❤️❤️❤️\n"
     ]
    },
    {
     "name": "stderr",
     "output_type": "stream",
     "text": [
      "Epoch 1 while evaluating: 100%|██████████| 500/500 [02:46<00:00,  3.00it/s]\n",
      "Epoch 1 while training:  26%|██▌       | 1200/4638 [23:55<48:19:26, 50.60s/it]"
     ]
    },
    {
     "name": "stdout",
     "output_type": "stream",
     "text": [
      "\n",
      "Average Loss: 1.3283281326293945\n",
      "Accuracy: 0.6060000061988831\n",
      "\n"
     ]
    },
    {
     "name": "stderr",
     "output_type": "stream",
     "text": [
      "Epoch 1 while training:  34%|███▍      | 1599/4638 [28:30<35:27,  1.43it/s]   "
     ]
    },
    {
     "name": "stdout",
     "output_type": "stream",
     "text": [
      "\n",
      "Average Loss: 0.05838685855269432\n",
      "\n",
      "❤️❤️❤️❤️❤️❤️❤️❤️❤️❤️❤️❤️❤️❤️❤️❤️❤️❤️❤️❤️❤️❤️❤️❤️❤️❤️❤️❤️❤️❤️\n"
     ]
    },
    {
     "name": "stderr",
     "output_type": "stream",
     "text": [
      "Epoch 1 while evaluating: 100%|██████████| 500/500 [02:45<00:00,  3.01it/s]\n",
      "Epoch 1 while training:  34%|███▍      | 1600/4638 [31:16<42:34:31, 50.45s/it]"
     ]
    },
    {
     "name": "stdout",
     "output_type": "stream",
     "text": [
      "\n",
      "Average Loss: 1.6554234027862549\n",
      "Accuracy: 0.5899999737739563\n",
      "\n"
     ]
    },
    {
     "name": "stderr",
     "output_type": "stream",
     "text": [
      "Epoch 1 while training:  43%|████▎     | 1999/4638 [35:48<26:56,  1.63it/s]   "
     ]
    },
    {
     "name": "stdout",
     "output_type": "stream",
     "text": [
      "\n",
      "Average Loss: 0.08245214819908142\n",
      "\n",
      "❤️❤️❤️❤️❤️❤️❤️❤️❤️❤️❤️❤️❤️❤️❤️❤️❤️❤️❤️❤️❤️❤️❤️❤️❤️❤️❤️❤️❤️❤️\n"
     ]
    },
    {
     "name": "stderr",
     "output_type": "stream",
     "text": [
      "Epoch 1 while evaluating: 100%|██████████| 500/500 [02:44<00:00,  3.03it/s]\n",
      "Epoch 1 while training:  43%|████▎     | 2000/4638 [38:34<36:44:18, 50.14s/it]"
     ]
    },
    {
     "name": "stdout",
     "output_type": "stream",
     "text": [
      "\n",
      "Average Loss: 1.252241611480713\n",
      "Accuracy: 0.6200000047683716\n",
      "\n"
     ]
    },
    {
     "name": "stderr",
     "output_type": "stream",
     "text": [
      "Epoch 1 while training:  52%|█████▏    | 2399/4638 [43:07<24:18,  1.54it/s]   "
     ]
    },
    {
     "name": "stdout",
     "output_type": "stream",
     "text": [
      "\n",
      "Average Loss: 0.10256977379322052\n",
      "\n",
      "❤️❤️❤️❤️❤️❤️❤️❤️❤️❤️❤️❤️❤️❤️❤️❤️❤️❤️❤️❤️❤️❤️❤️❤️❤️❤️❤️❤️❤️❤️\n"
     ]
    },
    {
     "name": "stderr",
     "output_type": "stream",
     "text": [
      "Epoch 1 while evaluating: 100%|██████████| 500/500 [02:45<00:00,  3.02it/s]\n",
      "Epoch 1 while training:  52%|█████▏    | 2400/4638 [45:53<31:18:32, 50.36s/it]"
     ]
    },
    {
     "name": "stdout",
     "output_type": "stream",
     "text": [
      "\n",
      "Average Loss: 1.1830792427062988\n",
      "Accuracy: 0.5839999914169312\n",
      "\n"
     ]
    },
    {
     "name": "stderr",
     "output_type": "stream",
     "text": [
      "Epoch 1 while training:  60%|██████    | 2799/4638 [50:23<19:59,  1.53it/s]   "
     ]
    },
    {
     "name": "stdout",
     "output_type": "stream",
     "text": [
      "\n",
      "Average Loss: 0.12030235677957535\n",
      "\n",
      "❤️❤️❤️❤️❤️❤️❤️❤️❤️❤️❤️❤️❤️❤️❤️❤️❤️❤️❤️❤️❤️❤️❤️❤️❤️❤️❤️❤️❤️❤️\n"
     ]
    },
    {
     "name": "stderr",
     "output_type": "stream",
     "text": [
      "Epoch 1 while evaluating: 100%|██████████| 500/500 [02:45<00:00,  3.02it/s]\n",
      "Epoch 1 while training:  60%|██████    | 2800/4638 [53:10<25:43:31, 50.39s/it]"
     ]
    },
    {
     "name": "stdout",
     "output_type": "stream",
     "text": [
      "\n",
      "Average Loss: 1.539013385772705\n",
      "Accuracy: 0.6000000238418579\n",
      "\n"
     ]
    },
    {
     "name": "stderr",
     "output_type": "stream",
     "text": [
      "Epoch 1 while training:  69%|██████▉   | 3199/4638 [57:40<15:21,  1.56it/s]   "
     ]
    },
    {
     "name": "stdout",
     "output_type": "stream",
     "text": [
      "\n",
      "Average Loss: 0.14189542829990387\n",
      "\n",
      "❤️❤️❤️❤️❤️❤️❤️❤️❤️❤️❤️❤️❤️❤️❤️❤️❤️❤️❤️❤️❤️❤️❤️❤️❤️❤️❤️❤️❤️❤️\n"
     ]
    },
    {
     "name": "stderr",
     "output_type": "stream",
     "text": [
      "Epoch 1 while evaluating: 100%|██████████| 500/500 [02:44<00:00,  3.03it/s]\n",
      "Epoch 1 while training:  69%|██████▉   | 3200/4638 [1:00:26<20:02:16, 50.16s/it]"
     ]
    },
    {
     "name": "stdout",
     "output_type": "stream",
     "text": [
      "\n",
      "Average Loss: 1.083541989326477\n",
      "Accuracy: 0.5960000157356262\n",
      "\n"
     ]
    },
    {
     "name": "stderr",
     "output_type": "stream",
     "text": [
      "Epoch 1 while training:  78%|███████▊  | 3599/4638 [1:04:59<10:26,  1.66it/s]   "
     ]
    },
    {
     "name": "stdout",
     "output_type": "stream",
     "text": [
      "\n",
      "Average Loss: 0.1692158728837967\n",
      "\n",
      "❤️❤️❤️❤️❤️❤️❤️❤️❤️❤️❤️❤️❤️❤️❤️❤️❤️❤️❤️❤️❤️❤️❤️❤️❤️❤️❤️❤️❤️❤️\n"
     ]
    },
    {
     "name": "stderr",
     "output_type": "stream",
     "text": [
      "Epoch 1 while evaluating: 100%|██████████| 500/500 [02:45<00:00,  3.02it/s]\n",
      "Epoch 1 while training:  78%|███████▊  | 3600/4638 [1:07:45<14:30:13, 50.30s/it]"
     ]
    },
    {
     "name": "stdout",
     "output_type": "stream",
     "text": [
      "\n",
      "Average Loss: 1.230594515800476\n",
      "Accuracy: 0.5839999914169312\n",
      "\n"
     ]
    },
    {
     "name": "stderr",
     "output_type": "stream",
     "text": [
      "Epoch 1 while training:  86%|████████▌ | 3999/4638 [1:12:17<06:57,  1.53it/s]   "
     ]
    },
    {
     "name": "stdout",
     "output_type": "stream",
     "text": [
      "\n",
      "Average Loss: 0.19153909385204315\n",
      "\n",
      "❤️❤️❤️❤️❤️❤️❤️❤️❤️❤️❤️❤️❤️❤️❤️❤️❤️❤️❤️❤️❤️❤️❤️❤️❤️❤️❤️❤️❤️❤️\n"
     ]
    },
    {
     "name": "stderr",
     "output_type": "stream",
     "text": [
      "Epoch 1 while evaluating: 100%|██████████| 500/500 [02:43<00:00,  3.05it/s]\n",
      "Epoch 1 while training:  86%|████████▌ | 4000/4638 [1:15:02<8:49:52, 49.83s/it]"
     ]
    },
    {
     "name": "stdout",
     "output_type": "stream",
     "text": [
      "\n",
      "Average Loss: 1.4378212690353394\n",
      "Accuracy: 0.5580000281333923\n",
      "\n"
     ]
    },
    {
     "name": "stderr",
     "output_type": "stream",
     "text": [
      "Epoch 1 while training:  95%|█████████▍| 4399/4638 [1:19:28<02:34,  1.54it/s]  "
     ]
    },
    {
     "name": "stdout",
     "output_type": "stream",
     "text": [
      "\n",
      "Average Loss: 0.21488329768180847\n",
      "\n",
      "❤️❤️❤️❤️❤️❤️❤️❤️❤️❤️❤️❤️❤️❤️❤️❤️❤️❤️❤️❤️❤️❤️❤️❤️❤️❤️❤️❤️❤️❤️\n"
     ]
    },
    {
     "name": "stderr",
     "output_type": "stream",
     "text": [
      "Epoch 1 while evaluating: 100%|██████████| 500/500 [02:41<00:00,  3.10it/s]\n",
      "Epoch 1 while training:  95%|█████████▍| 4400/4638 [1:22:10<3:14:20, 48.99s/it]"
     ]
    },
    {
     "name": "stdout",
     "output_type": "stream",
     "text": [
      "\n",
      "Average Loss: 1.5436248779296875\n",
      "Accuracy: 0.6000000238418579\n",
      "\n"
     ]
    },
    {
     "name": "stderr",
     "output_type": "stream",
     "text": [
      "Epoch 1 while training: 100%|██████████| 4638/4638 [1:24:47<00:00,  1.10s/it]  \n"
     ]
    },
    {
     "name": "stdout",
     "output_type": "stream",
     "text": [
      "⬇️⬇️⬇️⬇️⬇️⬇️⬇️⬇️⬇️⬇️⬇️⬇️⬇️⬇️⬇️⬇️⬇️⬇️⬇️⬇️⬇️⬇️⬇️⬇️⬇️⬇️⬇️⬇️⬇️⬇️\n"
     ]
    },
    {
     "name": "stderr",
     "output_type": "stream",
     "text": [
      "Epoch 2 while training:   9%|▊         | 399/4638 [06:30<1:09:11,  1.02it/s]"
     ]
    },
    {
     "name": "stdout",
     "output_type": "stream",
     "text": [
      "\n",
      "Average Loss: 0.00782840233296156\n",
      "\n",
      "❤️❤️❤️❤️❤️❤️❤️❤️❤️❤️❤️❤️❤️❤️❤️❤️❤️❤️❤️❤️❤️❤️❤️❤️❤️❤️❤️❤️❤️❤️\n"
     ]
    },
    {
     "name": "stderr",
     "output_type": "stream",
     "text": [
      "Epoch 2 while evaluating: 100%|██████████| 500/500 [02:41<00:00,  3.10it/s]\n",
      "Epoch 2 while training:   9%|▊         | 400/4638 [09:13<58:09:03, 49.40s/it]"
     ]
    },
    {
     "name": "stdout",
     "output_type": "stream",
     "text": [
      "\n",
      "Average Loss: 1.2290540933609009\n",
      "Accuracy: 0.5820000171661377\n",
      "\n"
     ]
    },
    {
     "name": "stderr",
     "output_type": "stream",
     "text": [
      "Epoch 2 while training:  17%|█▋        | 799/4638 [13:41<40:30,  1.58it/s]   "
     ]
    },
    {
     "name": "stdout",
     "output_type": "stream",
     "text": [
      "\n",
      "Average Loss: 0.01627008430659771\n",
      "\n",
      "❤️❤️❤️❤️❤️❤️❤️❤️❤️❤️❤️❤️❤️❤️❤️❤️❤️❤️❤️❤️❤️❤️❤️❤️❤️❤️❤️❤️❤️❤️\n"
     ]
    },
    {
     "name": "stderr",
     "output_type": "stream",
     "text": [
      "Epoch 2 while evaluating: 100%|██████████| 500/500 [02:41<00:00,  3.09it/s]\n",
      "Epoch 2 while training:  17%|█▋        | 800/4638 [16:24<52:27:19, 49.20s/it]"
     ]
    },
    {
     "name": "stdout",
     "output_type": "stream",
     "text": [
      "\n",
      "Average Loss: 1.5569757223129272\n",
      "Accuracy: 0.5860000252723694\n",
      "\n"
     ]
    },
    {
     "name": "stderr",
     "output_type": "stream",
     "text": [
      "Epoch 2 while training:  26%|██▌       | 1199/4638 [20:50<36:18,  1.58it/s]  "
     ]
    },
    {
     "name": "stdout",
     "output_type": "stream",
     "text": [
      "\n",
      "Average Loss: 0.025724558159708977\n",
      "\n",
      "❤️❤️❤️❤️❤️❤️❤️❤️❤️❤️❤️❤️❤️❤️❤️❤️❤️❤️❤️❤️❤️❤️❤️❤️❤️❤️❤️❤️❤️❤️\n"
     ]
    },
    {
     "name": "stderr",
     "output_type": "stream",
     "text": [
      "Epoch 2 while evaluating: 100%|██████████| 500/500 [02:41<00:00,  3.10it/s]\n",
      "Epoch 2 while training:  26%|██▌       | 1200/4638 [23:32<46:50:25, 49.05s/it]"
     ]
    },
    {
     "name": "stdout",
     "output_type": "stream",
     "text": [
      "\n",
      "Average Loss: 1.6531877517700195\n",
      "Accuracy: 0.6039999723434448\n",
      "\n"
     ]
    },
    {
     "name": "stderr",
     "output_type": "stream",
     "text": [
      "Epoch 2 while training:  34%|███▍      | 1599/4638 [27:58<34:50,  1.45it/s]   "
     ]
    },
    {
     "name": "stdout",
     "output_type": "stream",
     "text": [
      "\n",
      "Average Loss: 0.03702542930841446\n",
      "\n",
      "❤️❤️❤️❤️❤️❤️❤️❤️❤️❤️❤️❤️❤️❤️❤️❤️❤️❤️❤️❤️❤️❤️❤️❤️❤️❤️❤️❤️❤️❤️\n"
     ]
    },
    {
     "name": "stderr",
     "output_type": "stream",
     "text": [
      "Epoch 2 while evaluating: 100%|██████████| 500/500 [02:41<00:00,  3.10it/s]\n",
      "Epoch 2 while training:  34%|███▍      | 1600/4638 [30:40<41:27:47, 49.13s/it]"
     ]
    },
    {
     "name": "stdout",
     "output_type": "stream",
     "text": [
      "\n",
      "Average Loss: 1.833389401435852\n",
      "Accuracy: 0.578000009059906\n",
      "\n"
     ]
    },
    {
     "name": "stderr",
     "output_type": "stream",
     "text": [
      "Epoch 2 while training:  43%|████▎     | 1999/4638 [35:08<29:28,  1.49it/s]   "
     ]
    },
    {
     "name": "stdout",
     "output_type": "stream",
     "text": [
      "\n",
      "Average Loss: 0.05209299176931381\n",
      "\n",
      "❤️❤️❤️❤️❤️❤️❤️❤️❤️❤️❤️❤️❤️❤️❤️❤️❤️❤️❤️❤️❤️❤️❤️❤️❤️❤️❤️❤️❤️❤️\n"
     ]
    },
    {
     "name": "stderr",
     "output_type": "stream",
     "text": [
      "Epoch 2 while evaluating: 100%|██████████| 500/500 [02:41<00:00,  3.09it/s]\n",
      "Epoch 2 while training:  43%|████▎     | 2000/4638 [37:50<36:01:50, 49.17s/it]"
     ]
    },
    {
     "name": "stdout",
     "output_type": "stream",
     "text": [
      "\n",
      "Average Loss: 1.5167995691299438\n",
      "Accuracy: 0.621999979019165\n",
      "\n"
     ]
    },
    {
     "name": "stderr",
     "output_type": "stream",
     "text": [
      "Epoch 2 while training:  52%|█████▏    | 2399/4638 [42:21<24:06,  1.55it/s]   "
     ]
    },
    {
     "name": "stdout",
     "output_type": "stream",
     "text": [
      "\n",
      "Average Loss: 0.06397450715303421\n",
      "\n",
      "❤️❤️❤️❤️❤️❤️❤️❤️❤️❤️❤️❤️❤️❤️❤️❤️❤️❤️❤️❤️❤️❤️❤️❤️❤️❤️❤️❤️❤️❤️\n"
     ]
    },
    {
     "name": "stderr",
     "output_type": "stream",
     "text": [
      "Epoch 2 while evaluating: 100%|██████████| 500/500 [02:45<00:00,  3.02it/s]\n",
      "Epoch 2 while training:  52%|█████▏    | 2400/4638 [45:07<31:16:25, 50.31s/it]"
     ]
    },
    {
     "name": "stdout",
     "output_type": "stream",
     "text": [
      "\n",
      "Average Loss: 1.637278437614441\n",
      "Accuracy: 0.6119999885559082\n",
      "\n"
     ]
    },
    {
     "name": "stderr",
     "output_type": "stream",
     "text": [
      "Epoch 2 while training:  60%|██████    | 2799/4638 [49:41<20:00,  1.53it/s]   "
     ]
    },
    {
     "name": "stdout",
     "output_type": "stream",
     "text": [
      "\n",
      "Average Loss: 0.07307500392198563\n",
      "\n",
      "❤️❤️❤️❤️❤️❤️❤️❤️❤️❤️❤️❤️❤️❤️❤️❤️❤️❤️❤️❤️❤️❤️❤️❤️❤️❤️❤️❤️❤️❤️\n"
     ]
    },
    {
     "name": "stderr",
     "output_type": "stream",
     "text": [
      "Epoch 2 while evaluating: 100%|██████████| 500/500 [02:46<00:00,  3.01it/s]\n",
      "Epoch 2 while training:  60%|██████    | 2800/4638 [52:28<25:48:33, 50.55s/it]"
     ]
    },
    {
     "name": "stdout",
     "output_type": "stream",
     "text": [
      "\n",
      "Average Loss: 2.0591564178466797\n",
      "Accuracy: 0.593999981880188\n",
      "\n"
     ]
    },
    {
     "name": "stderr",
     "output_type": "stream",
     "text": [
      "Epoch 2 while training:  69%|██████▉   | 3199/4638 [57:00<16:40,  1.44it/s]   "
     ]
    },
    {
     "name": "stdout",
     "output_type": "stream",
     "text": [
      "\n",
      "Average Loss: 0.0855974406003952\n",
      "\n",
      "❤️❤️❤️❤️❤️❤️❤️❤️❤️❤️❤️❤️❤️❤️❤️❤️❤️❤️❤️❤️❤️❤️❤️❤️❤️❤️❤️❤️❤️❤️\n"
     ]
    },
    {
     "name": "stderr",
     "output_type": "stream",
     "text": [
      "Epoch 2 while evaluating: 100%|██████████| 500/500 [02:45<00:00,  3.03it/s]\n",
      "Epoch 2 while training:  69%|██████▉   | 3200/4638 [59:45<20:04:31, 50.26s/it]"
     ]
    },
    {
     "name": "stdout",
     "output_type": "stream",
     "text": [
      "\n",
      "Average Loss: 1.677323818206787\n",
      "Accuracy: 0.5699999928474426\n",
      "\n"
     ]
    },
    {
     "name": "stderr",
     "output_type": "stream",
     "text": [
      "Epoch 2 while training:  78%|███████▊  | 3599/4638 [1:04:16<11:28,  1.51it/s] "
     ]
    },
    {
     "name": "stdout",
     "output_type": "stream",
     "text": [
      "\n",
      "Average Loss: 0.10108020156621933\n",
      "\n",
      "❤️❤️❤️❤️❤️❤️❤️❤️❤️❤️❤️❤️❤️❤️❤️❤️❤️❤️❤️❤️❤️❤️❤️❤️❤️❤️❤️❤️❤️❤️\n"
     ]
    },
    {
     "name": "stderr",
     "output_type": "stream",
     "text": [
      "Epoch 2 while evaluating: 100%|██████████| 500/500 [02:46<00:00,  3.01it/s]\n",
      "Epoch 2 while training:  78%|███████▊  | 3600/4638 [1:07:02<14:34:01, 50.52s/it]"
     ]
    },
    {
     "name": "stdout",
     "output_type": "stream",
     "text": [
      "\n",
      "Average Loss: 1.2068345546722412\n",
      "Accuracy: 0.5860000252723694\n",
      "\n"
     ]
    },
    {
     "name": "stderr",
     "output_type": "stream",
     "text": [
      "Epoch 2 while training:  86%|████████▌ | 3999/4638 [1:11:39<07:19,  1.46it/s]   "
     ]
    },
    {
     "name": "stdout",
     "output_type": "stream",
     "text": [
      "\n",
      "Average Loss: 0.11550980806350708\n",
      "\n",
      "❤️❤️❤️❤️❤️❤️❤️❤️❤️❤️❤️❤️❤️❤️❤️❤️❤️❤️❤️❤️❤️❤️❤️❤️❤️❤️❤️❤️❤️❤️\n"
     ]
    },
    {
     "name": "stderr",
     "output_type": "stream",
     "text": [
      "Epoch 2 while evaluating: 100%|██████████| 500/500 [02:46<00:00,  3.00it/s]\n",
      "Epoch 2 while training:  86%|████████▌ | 4000/4638 [1:14:26<8:58:02, 50.60s/it]"
     ]
    },
    {
     "name": "stdout",
     "output_type": "stream",
     "text": [
      "\n",
      "Average Loss: 1.3004990816116333\n",
      "Accuracy: 0.5979999899864197\n",
      "\n"
     ]
    },
    {
     "name": "stderr",
     "output_type": "stream",
     "text": [
      "Epoch 2 while training:  95%|█████████▍| 4399/4638 [1:18:58<02:42,  1.47it/s]  "
     ]
    },
    {
     "name": "stdout",
     "output_type": "stream",
     "text": [
      "\n",
      "Average Loss: 0.1262957602739334\n",
      "\n",
      "❤️❤️❤️❤️❤️❤️❤️❤️❤️❤️❤️❤️❤️❤️❤️❤️❤️❤️❤️❤️❤️❤️❤️❤️❤️❤️❤️❤️❤️❤️\n"
     ]
    },
    {
     "name": "stderr",
     "output_type": "stream",
     "text": [
      "Epoch 2 while evaluating: 100%|██████████| 500/500 [02:46<00:00,  3.01it/s]\n",
      "Epoch 2 while training:  95%|█████████▍| 4400/4638 [1:21:45<3:20:39, 50.59s/it]"
     ]
    },
    {
     "name": "stdout",
     "output_type": "stream",
     "text": [
      "\n",
      "Average Loss: 1.7457603216171265\n",
      "Accuracy: 0.6019999980926514\n",
      "\n"
     ]
    },
    {
     "name": "stderr",
     "output_type": "stream",
     "text": [
      "Epoch 2 while training: 100%|██████████| 4638/4638 [1:24:27<00:00,  1.09s/it]  \n"
     ]
    },
    {
     "name": "stdout",
     "output_type": "stream",
     "text": [
      "⬇️⬇️⬇️⬇️⬇️⬇️⬇️⬇️⬇️⬇️⬇️⬇️⬇️⬇️⬇️⬇️⬇️⬇️⬇️⬇️⬇️⬇️⬇️⬇️⬇️⬇️⬇️⬇️⬇️⬇️\n"
     ]
    },
    {
     "name": "stderr",
     "output_type": "stream",
     "text": [
      "Epoch 3 while training:   9%|▊         | 399/4638 [06:39<1:19:57,  1.13s/it]"
     ]
    },
    {
     "name": "stdout",
     "output_type": "stream",
     "text": [
      "\n",
      "Average Loss: 0.008500076830387115\n",
      "\n",
      "❤️❤️❤️❤️❤️❤️❤️❤️❤️❤️❤️❤️❤️❤️❤️❤️❤️❤️❤️❤️❤️❤️❤️❤️❤️❤️❤️❤️❤️❤️\n"
     ]
    },
    {
     "name": "stderr",
     "output_type": "stream",
     "text": [
      "Epoch 3 while evaluating: 100%|██████████| 500/500 [02:46<00:00,  3.00it/s]\n",
      "Epoch 3 while training:   9%|▊         | 400/4638 [09:27<60:15:15, 51.18s/it]"
     ]
    },
    {
     "name": "stdout",
     "output_type": "stream",
     "text": [
      "\n",
      "Average Loss: 1.3662536144256592\n",
      "Accuracy: 0.6340000033378601\n",
      "\n"
     ]
    },
    {
     "name": "stderr",
     "output_type": "stream",
     "text": [
      "Epoch 3 while training:  17%|█▋        | 799/4638 [14:03<44:23,  1.44it/s]   "
     ]
    },
    {
     "name": "stdout",
     "output_type": "stream",
     "text": [
      "\n",
      "Average Loss: 0.015637662261724472\n",
      "\n",
      "❤️❤️❤️❤️❤️❤️❤️❤️❤️❤️❤️❤️❤️❤️❤️❤️❤️❤️❤️❤️❤️❤️❤️❤️❤️❤️❤️❤️❤️❤️\n"
     ]
    },
    {
     "name": "stderr",
     "output_type": "stream",
     "text": [
      "Epoch 3 while evaluating: 100%|██████████| 500/500 [02:47<00:00,  2.99it/s]\n",
      "Epoch 3 while training:  17%|█▋        | 800/4638 [16:51<54:12:59, 50.85s/it]"
     ]
    },
    {
     "name": "stdout",
     "output_type": "stream",
     "text": [
      "\n",
      "Average Loss: 1.595565915107727\n",
      "Accuracy: 0.621999979019165\n",
      "\n"
     ]
    },
    {
     "name": "stderr",
     "output_type": "stream",
     "text": [
      "Epoch 3 while training:  26%|██▌       | 1199/4638 [21:24<36:36,  1.57it/s]  "
     ]
    },
    {
     "name": "stdout",
     "output_type": "stream",
     "text": [
      "\n",
      "Average Loss: 0.024158019572496414\n",
      "\n",
      "❤️❤️❤️❤️❤️❤️❤️❤️❤️❤️❤️❤️❤️❤️❤️❤️❤️❤️❤️❤️❤️❤️❤️❤️❤️❤️❤️❤️❤️❤️\n"
     ]
    },
    {
     "name": "stderr",
     "output_type": "stream",
     "text": [
      "Epoch 3 while evaluating: 100%|██████████| 500/500 [02:46<00:00,  2.99it/s]\n",
      "Epoch 3 while training:  26%|██▌       | 1200/4638 [24:12<48:30:41, 50.80s/it]"
     ]
    },
    {
     "name": "stdout",
     "output_type": "stream",
     "text": [
      "\n",
      "Average Loss: 1.779089331626892\n",
      "Accuracy: 0.5920000076293945\n",
      "\n"
     ]
    },
    {
     "name": "stderr",
     "output_type": "stream",
     "text": [
      "Epoch 3 while training:  34%|███▍      | 1599/4638 [28:46<33:40,  1.50it/s]   "
     ]
    },
    {
     "name": "stdout",
     "output_type": "stream",
     "text": [
      "\n",
      "Average Loss: 0.035888250917196274\n",
      "\n",
      "❤️❤️❤️❤️❤️❤️❤️❤️❤️❤️❤️❤️❤️❤️❤️❤️❤️❤️❤️❤️❤️❤️❤️❤️❤️❤️❤️❤️❤️❤️\n"
     ]
    },
    {
     "name": "stderr",
     "output_type": "stream",
     "text": [
      "Epoch 3 while evaluating: 100%|██████████| 500/500 [02:46<00:00,  3.01it/s]\n",
      "Epoch 3 while training:  34%|███▍      | 1600/4638 [31:33<42:39:25, 50.55s/it]"
     ]
    },
    {
     "name": "stdout",
     "output_type": "stream",
     "text": [
      "\n",
      "Average Loss: 2.235356092453003\n",
      "Accuracy: 0.6200000047683716\n",
      "\n"
     ]
    },
    {
     "name": "stderr",
     "output_type": "stream",
     "text": [
      "Epoch 3 while training:  43%|████▎     | 1999/4638 [36:05<28:59,  1.52it/s]   "
     ]
    },
    {
     "name": "stdout",
     "output_type": "stream",
     "text": [
      "\n",
      "Average Loss: 0.04926202818751335\n",
      "\n",
      "❤️❤️❤️❤️❤️❤️❤️❤️❤️❤️❤️❤️❤️❤️❤️❤️❤️❤️❤️❤️❤️❤️❤️❤️❤️❤️❤️❤️❤️❤️\n"
     ]
    },
    {
     "name": "stderr",
     "output_type": "stream",
     "text": [
      "Epoch 3 while evaluating: 100%|██████████| 500/500 [02:46<00:00,  3.01it/s]\n",
      "Epoch 3 while training:  43%|████▎     | 2000/4638 [38:52<37:02:38, 50.55s/it]"
     ]
    },
    {
     "name": "stdout",
     "output_type": "stream",
     "text": [
      "\n",
      "Average Loss: 1.8553065061569214\n",
      "Accuracy: 0.621999979019165\n",
      "\n"
     ]
    },
    {
     "name": "stderr",
     "output_type": "stream",
     "text": [
      "Epoch 3 while training:  52%|█████▏    | 2399/4638 [43:25<23:51,  1.56it/s]   "
     ]
    },
    {
     "name": "stdout",
     "output_type": "stream",
     "text": [
      "\n",
      "Average Loss: 0.05894162878394127\n",
      "\n",
      "❤️❤️❤️❤️❤️❤️❤️❤️❤️❤️❤️❤️❤️❤️❤️❤️❤️❤️❤️❤️❤️❤️❤️❤️❤️❤️❤️❤️❤️❤️\n"
     ]
    },
    {
     "name": "stderr",
     "output_type": "stream",
     "text": [
      "Epoch 3 while evaluating: 100%|██████████| 500/500 [02:46<00:00,  3.00it/s]\n",
      "Epoch 3 while training:  52%|█████▏    | 2400/4638 [46:13<31:28:50, 50.64s/it]"
     ]
    },
    {
     "name": "stdout",
     "output_type": "stream",
     "text": [
      "\n",
      "Average Loss: 1.68803870677948\n",
      "Accuracy: 0.6200000047683716\n",
      "\n"
     ]
    },
    {
     "name": "stderr",
     "output_type": "stream",
     "text": [
      "Epoch 3 while training:  60%|██████    | 2799/4638 [50:45<19:35,  1.57it/s]   "
     ]
    },
    {
     "name": "stdout",
     "output_type": "stream",
     "text": [
      "\n",
      "Average Loss: 0.06976749002933502\n",
      "\n",
      "❤️❤️❤️❤️❤️❤️❤️❤️❤️❤️❤️❤️❤️❤️❤️❤️❤️❤️❤️❤️❤️❤️❤️❤️❤️❤️❤️❤️❤️❤️\n"
     ]
    },
    {
     "name": "stderr",
     "output_type": "stream",
     "text": [
      "Epoch 3 while evaluating: 100%|██████████| 500/500 [02:46<00:00,  3.01it/s]\n",
      "Epoch 3 while training:  60%|██████    | 2800/4638 [53:32<25:47:34, 50.52s/it]"
     ]
    },
    {
     "name": "stdout",
     "output_type": "stream",
     "text": [
      "\n",
      "Average Loss: 1.3915009498596191\n",
      "Accuracy: 0.6259999871253967\n",
      "\n"
     ]
    },
    {
     "name": "stderr",
     "output_type": "stream",
     "text": [
      "Epoch 3 while training:  69%|██████▉   | 3199/4638 [58:05<16:34,  1.45it/s]   "
     ]
    },
    {
     "name": "stdout",
     "output_type": "stream",
     "text": [
      "\n",
      "Average Loss: 0.08192812651395798\n",
      "\n",
      "❤️❤️❤️❤️❤️❤️❤️❤️❤️❤️❤️❤️❤️❤️❤️❤️❤️❤️❤️❤️❤️❤️❤️❤️❤️❤️❤️❤️❤️❤️\n"
     ]
    },
    {
     "name": "stderr",
     "output_type": "stream",
     "text": [
      "Epoch 3 while evaluating: 100%|██████████| 500/500 [02:46<00:00,  3.01it/s]\n",
      "Epoch 3 while training:  69%|██████▉   | 3200/4638 [1:00:52<20:11:56, 50.57s/it]"
     ]
    },
    {
     "name": "stdout",
     "output_type": "stream",
     "text": [
      "\n",
      "Average Loss: 1.562265157699585\n",
      "Accuracy: 0.6140000224113464\n",
      "\n"
     ]
    },
    {
     "name": "stderr",
     "output_type": "stream",
     "text": [
      "Epoch 3 while training:  78%|███████▊  | 3599/4638 [1:05:28<11:59,  1.44it/s]   "
     ]
    },
    {
     "name": "stdout",
     "output_type": "stream",
     "text": [
      "\n",
      "Average Loss: 0.09211317449808121\n",
      "\n",
      "❤️❤️❤️❤️❤️❤️❤️❤️❤️❤️❤️❤️❤️❤️❤️❤️❤️❤️❤️❤️❤️❤️❤️❤️❤️❤️❤️❤️❤️❤️\n"
     ]
    },
    {
     "name": "stderr",
     "output_type": "stream",
     "text": [
      "Epoch 3 while evaluating: 100%|██████████| 500/500 [02:45<00:00,  3.01it/s]\n",
      "Epoch 3 while training:  78%|███████▊  | 3600/4638 [1:08:14<14:32:59, 50.46s/it]"
     ]
    },
    {
     "name": "stdout",
     "output_type": "stream",
     "text": [
      "\n",
      "Average Loss: 1.5557631254196167\n",
      "Accuracy: 0.6060000061988831\n",
      "\n"
     ]
    },
    {
     "name": "stderr",
     "output_type": "stream",
     "text": [
      "Epoch 3 while training:  86%|████████▌ | 3999/4638 [1:12:45<07:04,  1.50it/s]   "
     ]
    },
    {
     "name": "stdout",
     "output_type": "stream",
     "text": [
      "\n",
      "Average Loss: 0.10224395990371704\n",
      "\n",
      "❤️❤️❤️❤️❤️❤️❤️❤️❤️❤️❤️❤️❤️❤️❤️❤️❤️❤️❤️❤️❤️❤️❤️❤️❤️❤️❤️❤️❤️❤️\n"
     ]
    },
    {
     "name": "stderr",
     "output_type": "stream",
     "text": [
      "Epoch 3 while evaluating: 100%|██████████| 500/500 [02:44<00:00,  3.04it/s]\n",
      "Epoch 3 while training:  86%|████████▌ | 4000/4638 [1:15:30<8:51:53, 50.02s/it]"
     ]
    },
    {
     "name": "stdout",
     "output_type": "stream",
     "text": [
      "\n",
      "Average Loss: 1.6479778289794922\n",
      "Accuracy: 0.5759999752044678\n",
      "\n"
     ]
    },
    {
     "name": "stderr",
     "output_type": "stream",
     "text": [
      "Epoch 3 while training:  95%|█████████▍| 4399/4638 [1:19:56<02:31,  1.57it/s]  "
     ]
    },
    {
     "name": "stdout",
     "output_type": "stream",
     "text": [
      "\n",
      "Average Loss: 0.1149977520108223\n",
      "\n",
      "❤️❤️❤️❤️❤️❤️❤️❤️❤️❤️❤️❤️❤️❤️❤️❤️❤️❤️❤️❤️❤️❤️❤️❤️❤️❤️❤️❤️❤️❤️\n"
     ]
    },
    {
     "name": "stderr",
     "output_type": "stream",
     "text": [
      "Epoch 3 while evaluating: 100%|██████████| 500/500 [02:44<00:00,  3.04it/s]\n",
      "Epoch 3 while training:  95%|█████████▍| 4400/4638 [1:22:41<3:18:33, 50.06s/it]"
     ]
    },
    {
     "name": "stdout",
     "output_type": "stream",
     "text": [
      "\n",
      "Average Loss: 1.7968440055847168\n",
      "Accuracy: 0.578000009059906\n",
      "\n"
     ]
    },
    {
     "name": "stderr",
     "output_type": "stream",
     "text": [
      "Epoch 3 while training: 100%|██████████| 4638/4638 [1:25:22<00:00,  1.10s/it]  \n"
     ]
    }
   ],
   "source": [
    "torch.backends.cudnn.enabled = True\n",
    "torch.backends.cudnn.benchmark = True \n",
    "\n",
    "for epoch in range(num_epochs):\n",
    "    torch.cuda.empty_cache()\n",
    "    print(\"⬇️\" * 30)\n",
    "    llama_model.train()\n",
    "    total_train_loss = 0\n",
    "    for index, batch in enumerate(tqdm(train_dataloader, desc=f\"Epoch {epoch + 1} while training\")):\n",
    "        torch.cuda.empty_cache()\n",
    "        optimizer.zero_grad()\n",
    "        batch = {k: v.to(device) for k, v in batch.items()}\n",
    "        loss = compute_loss(llama_model, batch)\n",
    "        loss.backward()\n",
    "        optimizer.step()\n",
    "        total_train_loss += loss.detach().float().cpu()\n",
    "    \n",
    "        if (index+1) % 400 == 0:\n",
    "            avg_loss = total_train_loss / len(train_dataloader)\n",
    "            train_hishory_loss.append(avg_loss.cpu())\n",
    "            print(f\"\\nAverage Loss: {avg_loss}\\n\")\n",
    "\n",
    "            print(\"❤️\" * 30)\n",
    "\n",
    "            llama_model.eval()\n",
    "            eval_total_loss = 0\n",
    "            right_num = 0\n",
    "            with torch.no_grad():\n",
    "                torch.cuda.empty_cache()\n",
    "                for batch in tqdm(val_dataloader, desc=f\"Epoch {epoch + 1} while evaluating\"):\n",
    "                    batch = {k: v.to(device) for k, v in batch.items()}\n",
    "\n",
    "                    labels = batch.pop(\"labels\")\n",
    "                    outputs = llama_model(**batch)\n",
    "                    logits = outputs.get(\"logits\")\n",
    "\n",
    "                    loss_fct = torch.nn.CrossEntropyLoss(weight=torch.tensor([option0_weights, option1_weights, option2_weights, option3_weights], device=labels.device, dtype=logits.dtype))\n",
    "                    loss = loss_fct(logits.view(-1, llama_model.config.num_labels), labels.view(-1))\n",
    "                    eval_total_loss += loss.detach().float().cpu()\n",
    "\n",
    "                    preds = logits.argmax(-1)\n",
    "                    right_num += torch.eq(labels, preds).sum().detach().float().cpu()\n",
    "\n",
    "\n",
    "                avg_loss = eval_total_loss / len(val_dataloader)\n",
    "                eval_hishory_loss.append(avg_loss.cpu())\n",
    "                accuracy = right_num / len(val_dataloader)\n",
    "                accuracy_history.append(accuracy.cpu())\n",
    "                print(f\"\\nAverage Loss: {avg_loss}\\nAccuracy: {accuracy}\\n\")"
   ]
  },
  {
   "cell_type": "markdown",
   "metadata": {},
   "source": [
    "# 训练过程图像"
   ]
  },
  {
   "cell_type": "code",
   "execution_count": 20,
   "metadata": {},
   "outputs": [
    {
     "data": {
      "image/png": "[encoded data removed]",
      "text/plain": [
       "<Figure size 640x480 with 1 Axes>"
      ]
     },
     "metadata": {},
     "output_type": "display_data"
    },
    {
     "data": {
      "image/png": "[encoded data removed]",
      "text/plain": [
       "<Figure size 640x480 with 2 Axes>"
      ]
     },
     "metadata": {},
     "output_type": "display_data"
    }
   ],
   "source": [
    "import matplotlib.pyplot as plt\n",
    "\n",
    "# 绘制折线图\n",
    "plt.plot(range(len(train_hishory_loss)), train_hishory_loss)\n",
    "\n",
    "# 添加标题和坐标轴标签\n",
    "plt.title(\"train_loss\")\n",
    "plt.xlabel(\"x\")\n",
    "plt.ylabel(\"y\")\n",
    " \n",
    "# 显示图表\n",
    "plt.show()\n",
    "\n",
    "fig, ax1 = plt.subplots()  # 创建一个图形和第一个 Y 轴\n",
    "ax2 = ax1.twinx()  # 创建第二个 Y 轴\n",
    "ax1.plot(range(len(eval_hishory_loss)), eval_hishory_loss, label='eval_loss', color=\"r\")\n",
    "ax1.set_ylabel('loss', color=\"r\")\n",
    "ax1.tick_params(axis='y', labelcolor='r')\n",
    "ax2.plot(range(len(accuracy_history)), accuracy_history, ls='--', label='accuracy', color=\"b\")\n",
    "ax2.set_ylabel('accuracy', color=\"b\")\n",
    "ax2.tick_params(axis='y', labelcolor='b')\n",
    "plt.title(\"eval loss and accuracy\")\n",
    "# 添加图例\n",
    "fig.legend()\n",
    "plt.grid(alpha=0.7, ls='-.')\n",
    "# 显示图表\n",
    "plt.show()"
   ]
  },
  {
   "cell_type": "markdown",
   "metadata": {},
   "source": [
    "# 保存预训练模型"
   ]
  },
  {
   "cell_type": "code",
   "execution_count": 21,
   "metadata": {},
   "outputs": [],
   "source": [
    "output_path = \"./llama_output_new\"\n",
    "llama_model.save_pretrained(output_path)"
   ]
  }
 ],
 "metadata": {
  "kernelspec": {
   "display_name": "Python 3",
   "language": "python",
   "name": "python3"
  },
  "language_info": {
   "codemirror_mode": {
    "name": "ipython",
    "version": 3
   },
   "file_extension": ".py",
   "mimetype": "text/x-python",
   "name": "python",
   "nbconvert_exporter": "python",
   "pygments_lexer": "ipython3",
   "version": "3.8.13"
  }
 },
 "nbformat": 4,
 "nbformat_minor": 2
}
