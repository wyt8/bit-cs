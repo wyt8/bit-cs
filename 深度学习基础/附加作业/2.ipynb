{
 "cells": [
  {
   "attachments": {},
   "cell_type": "markdown",
   "metadata": {},
   "source": [
    "### 导入实验所需模块"
   ]
  },
  {
   "cell_type": "code",
   "execution_count": 8,
   "metadata": {},
   "outputs": [
    {
     "ename": "RuntimeError",
     "evalue": "Unsupported device target Ascend. This process only supports one of the ['CPU']. Please check whether the Ascend environment is installed and configured correctly, and check whether current mindspore wheel package was built with \"-e Ascend\".\n\n----------------------------------------------------\n- C++ Call Stack: (For framework developers)\n----------------------------------------------------\nmindspore\\core\\utils\\ms_context.cc:328 mindspore::MsContext::SetDeviceTargetFromInner\n",
     "output_type": "error",
     "traceback": [
      "\u001b[1;31m---------------------------------------------------------------------------\u001b[0m",
      "\u001b[1;31mRuntimeError\u001b[0m                              Traceback (most recent call last)",
      "Cell \u001b[1;32mIn[8], line 21\u001b[0m\n\u001b[0;32m     18\u001b[0m \u001b[39mfrom\u001b[39;00m \u001b[39mmindspore\u001b[39;00m\u001b[39m.\u001b[39;00m\u001b[39mtrain\u001b[39;00m\u001b[39m.\u001b[39;00m\u001b[39mserialization\u001b[39;00m \u001b[39mimport\u001b[39;00m load_checkpoint, load_param_into_net\n\u001b[0;32m     19\u001b[0m \u001b[39mfrom\u001b[39;00m \u001b[39mmindspore\u001b[39;00m\u001b[39m.\u001b[39;00m\u001b[39mtrain\u001b[39;00m\u001b[39m.\u001b[39;00m\u001b[39mcallback\u001b[39;00m \u001b[39mimport\u001b[39;00m ModelCheckpoint, CheckpointConfig, LossMonitor, TimeMonitor\n\u001b[1;32m---> 21\u001b[0m context\u001b[39m.\u001b[39;49mset_context(mode\u001b[39m=\u001b[39;49mcontext\u001b[39m.\u001b[39;49mGRAPH_MODE, device_target\u001b[39m=\u001b[39;49m\u001b[39m'\u001b[39;49m\u001b[39mAscend\u001b[39;49m\u001b[39m'\u001b[39;49m) \n",
      "File \u001b[1;32md:\\ProgramData\\Anaconda3\\envs\\deeplearning\\lib\\site-packages\\mindspore\\_checkparam.py:1297\u001b[0m, in \u001b[0;36margs_type_check.<locals>.type_check.<locals>.wrapper\u001b[1;34m(*args, **kwargs)\u001b[0m\n\u001b[0;32m   1294\u001b[0m         \u001b[39mif\u001b[39;00m value \u001b[39mis\u001b[39;00m \u001b[39mnot\u001b[39;00m \u001b[39mNone\u001b[39;00m \u001b[39mand\u001b[39;00m \u001b[39mnot\u001b[39;00m \u001b[39misinstance\u001b[39m(value, bound_types[name]):\n\u001b[0;32m   1295\u001b[0m             \u001b[39mraise\u001b[39;00m \u001b[39mTypeError\u001b[39;00m(\u001b[39m\"\u001b[39m\u001b[39mThe parameter \u001b[39m\u001b[39m'\u001b[39m\u001b[39m{}\u001b[39;00m\u001b[39m'\u001b[39m\u001b[39m must be \u001b[39m\u001b[39m{}\u001b[39;00m\u001b[39m, but got \u001b[39m\u001b[39m{}\u001b[39;00m\u001b[39m\"\u001b[39m\n\u001b[0;32m   1296\u001b[0m                             \u001b[39m.\u001b[39mformat(name, bound_types[name], \u001b[39mtype\u001b[39m(value)))\n\u001b[1;32m-> 1297\u001b[0m \u001b[39mreturn\u001b[39;00m func(\u001b[39m*\u001b[39;49margs, \u001b[39m*\u001b[39;49m\u001b[39m*\u001b[39;49mkwargs)\n",
      "File \u001b[1;32md:\\ProgramData\\Anaconda3\\envs\\deeplearning\\lib\\site-packages\\mindspore\\context.py:1191\u001b[0m, in \u001b[0;36mset_context\u001b[1;34m(**kwargs)\u001b[0m\n\u001b[0;32m   1189\u001b[0m \u001b[39m# set device target first\u001b[39;00m\n\u001b[0;32m   1190\u001b[0m \u001b[39mif\u001b[39;00m \u001b[39m'\u001b[39m\u001b[39mdevice_target\u001b[39m\u001b[39m'\u001b[39m \u001b[39min\u001b[39;00m kwargs:\n\u001b[1;32m-> 1191\u001b[0m     ctx\u001b[39m.\u001b[39;49mset_device_target(kwargs[\u001b[39m'\u001b[39;49m\u001b[39mdevice_target\u001b[39;49m\u001b[39m'\u001b[39;49m])\n\u001b[0;32m   1192\u001b[0m device \u001b[39m=\u001b[39m ctx\u001b[39m.\u001b[39mget_param(ms_ctx_param\u001b[39m.\u001b[39mdevice_target)\n\u001b[0;32m   1193\u001b[0m \u001b[39mfor\u001b[39;00m key, value \u001b[39min\u001b[39;00m kwargs\u001b[39m.\u001b[39mitems():\n",
      "File \u001b[1;32md:\\ProgramData\\Anaconda3\\envs\\deeplearning\\lib\\site-packages\\mindspore\\context.py:328\u001b[0m, in \u001b[0;36m_Context.set_device_target\u001b[1;34m(self, target)\u001b[0m\n\u001b[0;32m    326\u001b[0m     logger\u001b[39m.\u001b[39minfo(\u001b[39m\"\u001b[39m\u001b[39mReset device target to CPU when set_device_target.\u001b[39m\u001b[39m\"\u001b[39m)\n\u001b[0;32m    327\u001b[0m     target \u001b[39m=\u001b[39m \u001b[39m\"\u001b[39m\u001b[39mCPU\u001b[39m\u001b[39m\"\u001b[39m\n\u001b[1;32m--> 328\u001b[0m \u001b[39mself\u001b[39;49m\u001b[39m.\u001b[39;49mset_param(ms_ctx_param\u001b[39m.\u001b[39;49mdevice_target, target)\n\u001b[0;32m    329\u001b[0m \u001b[39mif\u001b[39;00m \u001b[39mself\u001b[39m\u001b[39m.\u001b[39menable_debug_runtime \u001b[39mand\u001b[39;00m target \u001b[39m==\u001b[39m \u001b[39m\"\u001b[39m\u001b[39mCPU\u001b[39m\u001b[39m\"\u001b[39m:\n\u001b[0;32m    330\u001b[0m     \u001b[39mself\u001b[39m\u001b[39m.\u001b[39mset_backend_policy(\u001b[39m\"\u001b[39m\u001b[39mvm\u001b[39m\u001b[39m\"\u001b[39m)\n",
      "File \u001b[1;32md:\\ProgramData\\Anaconda3\\envs\\deeplearning\\lib\\site-packages\\mindspore\\context.py:175\u001b[0m, in \u001b[0;36m_Context.set_param\u001b[1;34m(self, param, value)\u001b[0m\n\u001b[0;32m    174\u001b[0m \u001b[39mdef\u001b[39;00m \u001b[39mset_param\u001b[39m(\u001b[39mself\u001b[39m, param, value):\n\u001b[1;32m--> 175\u001b[0m     \u001b[39mself\u001b[39;49m\u001b[39m.\u001b[39;49m_context_handle\u001b[39m.\u001b[39;49mset_param(param, value)\n",
      "\u001b[1;31mRuntimeError\u001b[0m: Unsupported device target Ascend. This process only supports one of the ['CPU']. Please check whether the Ascend environment is installed and configured correctly, and check whether current mindspore wheel package was built with \"-e Ascend\".\n\n----------------------------------------------------\n- C++ Call Stack: (For framework developers)\n----------------------------------------------------\nmindspore\\core\\utils\\ms_context.cc:328 mindspore::MsContext::SetDeviceTargetFromInner\n"
     ]
    }
   ],
   "source": [
    "# 导入相关依赖库\n",
    "import  os\n",
    "import csv\n",
    "import time\n",
    "import numpy as np\n",
    "import pandas as pd\n",
    "from matplotlib import pyplot as plt\n",
    "\n",
    "import mindspore as ms\n",
    "import mindspore.dataset as ds\n",
    "import mindspore.context as context\n",
    "import mindspore.dataset.transforms.c_transforms as C\n",
    "import mindspore.dataset.vision.c_transforms as CV\n",
    "\n",
    "from mindspore import nn, Tensor\n",
    "from mindspore.train import Model\n",
    "from mindspore.nn.metrics import Accuracy, MAE, MSE\n",
    "from mindspore.train.serialization import load_checkpoint, load_param_into_net\n",
    "from mindspore.train.callback import ModelCheckpoint, CheckpointConfig, LossMonitor, TimeMonitor\n",
    "\n",
    "context.set_context(mode=context.GRAPH_MODE, device_target='Ascend') \n"
   ]
  },
  {
   "attachments": {},
   "cell_type": "markdown",
   "metadata": {},
   "source": [
    "### 查看数据格式"
   ]
  },
  {
   "cell_type": "code",
   "execution_count": 9,
   "metadata": {},
   "outputs": [
    {
     "name": "stdout",
     "output_type": "stream",
     "text": [
      "[['25.0   4   110.0      87.00      2672.      17.5   70  2\\t\"peugeot 504\"'], ['24.0   4   107.0      90.00      2430.      14.5   70  2\\t\"audi 100 ls\"'], ['25.0   4   104.0      95.00      2375.      17.5   70  2\\t\"saab 99e\"'], ['26.0   4   121.0      113.0      2234.      12.5   70  2\\t\"bmw 2002\"'], ['21.0   6   199.0      90.00      2648.      15.0   70  1\\t\"amc gremlin\"'], ['10.0   8   360.0      215.0      4615.      14.0   70  1\\t\"ford f250\"'], ['10.0   8   307.0      200.0      4376.      15.0   70  1\\t\"chevy c20\"'], ['11.0   8   318.0      210.0      4382.      13.5   70  1\\t\"dodge d200\"'], ['9.0    8   304.0      193.0      4732.      18.5   70  1\\t\"hi 1200d\"'], ['27.0   4   97.00      88.00      2130.      14.5   71  3\\t\"datsun pl510\"'], ['28.0   4   140.0      90.00      2264.      15.5   71  1\\t\"chevrolet vega 2300\"'], ['25.0   4   113.0      95.00      2228.      14.0   71  3\\t\"toyota corona\"'], ['25.0   4   98.00      ?          2046.      19.0   71  1\\t\"ford pinto\"'], ['19.0   6   232.0      100.0      2634.      13.0   71  1\\t\"amc gremlin\"'], ['16.0   6   225.0      105.0      3439.      15.5   71  1\\t\"plymouth satellite custom\"'], ['17.0   6   250.0      100.0      3329.      15.5   71  1\\t\"chevrolet chevelle malibu\"'], ['19.0   6   250.0      88.00      3302.      15.5   71  1\\t\"ford torino 500\"'], ['18.0   6   232.0      100.0      3288.      15.5   71  1\\t\"amc matador\"'], ['14.0   8   350.0      165.0      4209.      12.0   71  1\\t\"chevrolet impala\"'], ['14.0   8   400.0      175.0      4464.      11.5   71  1\\t\"pontiac catalina brougham\"']]\n"
     ]
    }
   ],
   "source": [
    "# 加载数据集\n",
    "with open('../data/auto-mpg.data') as csv_file:\n",
    "    data = list(csv.reader(csv_file, delimiter=','))\n",
    "print(data[20:40]) # 打印部分数据 "
   ]
  },
  {
   "attachments": {},
   "cell_type": "markdown",
   "metadata": {},
   "source": [
    "### 利用pandas模块读取数据"
   ]
  },
  {
   "cell_type": "code",
   "execution_count": 10,
   "metadata": {},
   "outputs": [
    {
     "data": {
      "text/plain": [
       "(398, 8)"
      ]
     },
     "execution_count": 10,
     "metadata": {},
     "output_type": "execute_result"
    }
   ],
   "source": [
    "# 使用pandas读取数据\n",
    "column_names = ['MPG','Cylinders','Displacement','Horsepower','Weight',\n",
    "                'Acceleration', 'Model Year', 'Origin']\n",
    "# 遇到？换成nan，忽略\\t之后的内容，以空格作为分隔符。\n",
    "raw_data = pd.read_csv('../data/auto-mpg.data', names=column_names,\n",
    "                      na_values = \"?\", comment='\\t',\n",
    "                      sep=\" \", skipinitialspace=True)\n",
    "\n",
    "data = raw_data.copy()\n",
    "\n",
    "# 查看数据形状\n",
    "data.shape"
   ]
  },
  {
   "attachments": {},
   "cell_type": "markdown",
   "metadata": {},
   "source": [
    "### 数据预处理\n",
    "对于数据集中的空值，我们要在建模前进行处理。此处空值的数据较少，我们直接进行删除。特征Origin代表着车辆的归属区域信息，此处总共分为三种，欧洲，美国，日本，我们需要对此特征进行one-hot编码。\n",
    "\n",
    "此处MPG为Y值，其余的特征为X值。"
   ]
  },
  {
   "cell_type": "code",
   "execution_count": 11,
   "metadata": {},
   "outputs": [],
   "source": [
    "# 对于数据集中的空值，我们要在建模前进行处理。此处空值的数据较少，我们直接进行删除。\n",
    "# 清洗空数据\n",
    "data = data.dropna()\n",
    "data.tail()\n",
    "# Pandas库提供了简单的数据集统计信息，我们可直接调用函数describe()进行查看。\n",
    "# 查看训练数据集的结构\n",
    "origin = data.pop('Origin')\n",
    "data_labels = data.pop('MPG')\n",
    "train_stats = data.describe()\n",
    "train_stats = train_stats.transpose()\n",
    "train_stats\n",
    "# 归一化数据\n",
    "def norm(x):\n",
    "    return (x - train_stats['mean']) / train_stats['std']\n",
    "\n",
    "normed_data = norm(data)\n",
    "# 将MPG放回归一化后的数据中\n",
    "normed_data['MPG'] = data_labels\n",
    "# 离散特征处理\n",
    "# 特征Origin代表着车辆的归属区域信息，此处总共分为三种，欧洲，美国，日本，我们需要对此特征进行one-hot编码。\n",
    "# 对origin属性进行one-hot编码\n",
    "normed_data['USA'] = (origin == 1)*1.0\n",
    "normed_data['Europe'] = (origin == 2)*1.0\n",
    "normed_data['Japan'] = (origin == 3)*1.0"
   ]
  },
  {
   "attachments": {},
   "cell_type": "markdown",
   "metadata": {},
   "source": [
    "### 将数据分割为训练集和验证集"
   ]
  },
  {
   "cell_type": "code",
   "execution_count": 12,
   "metadata": {},
   "outputs": [
    {
     "name": "stdout",
     "output_type": "stream",
     "text": [
      "训练数据x尺寸： (314, 9)\n",
      "训练数据y尺寸： (314,)\n",
      "测试数据x尺寸： (78, 9)\n",
      "测试数据y尺寸： (78,)\n"
     ]
    }
   ],
   "source": [
    "# 将数据集按照4：1划分成训练集和测试集\n",
    "train_dataset = normed_data.sample(frac=0.8,random_state=0)\n",
    "test_dataset = normed_data.drop(train_dataset.index)\n",
    "\n",
    "# 模型训练需要区分特征值与目标值，也就是我们常说的X值与Y值，此处MPG为Y值，其余的特征为X值。\n",
    "# 将目标值和特征分开\n",
    "train_labels = train_dataset.pop('MPG')\n",
    "test_labels = test_dataset.pop('MPG')\n",
    "\n",
    "X_train, Y_train = np.array(train_dataset), np.array(train_labels)\n",
    "X_test, Y_test = np.array(test_dataset), np.array(test_labels)\n",
    "\n",
    "# 查看数据集尺寸\n",
    "print('训练数据x尺寸：',X_train.shape)\n",
    "print('训练数据y尺寸：',Y_train.shape)\n",
    "print('测试数据x尺寸：',X_test.shape)\n",
    "print('测试数据y尺寸：',Y_test.shape)\n",
    "# 将数据集转换为Tensor格式\n",
    "ds_xtrain= Tensor(X_train, ms.float32)\n",
    "ds_ytrain= Tensor(Y_train, ms.int32)\n",
    "\n",
    "ds_xtest=Tensor(X_test, ms.float32)\n",
    "ds_ytest=Tensor(Y_test, ms.int32)"
   ]
  },
  {
   "attachments": {},
   "cell_type": "markdown",
   "metadata": {},
   "source": [
    "### 创建网络"
   ]
  },
  {
   "cell_type": "code",
   "execution_count": 13,
   "metadata": {},
   "outputs": [],
   "source": [
    "# 定义网络\n",
    "class Regression_car(nn.Cell):\n",
    "    def __init__(self):\n",
    "        super(Regression_car, self).__init__()\n",
    "        self.flatten = nn.Flatten()\n",
    "        self.relu = nn.ReLU()\n",
    "        self.fc1 = nn.Dense(9,64, activation='relu')\n",
    "        self.fc2 = nn.Dense(64,64, activation='relu')\n",
    "        self.fc3 = nn.Dense(64,1)\n",
    "        \n",
    "        \n",
    "    def construct(self, x):\n",
    "        x = self.flatten(x)\n",
    "        x = self.fc1(x)\n",
    "        x = self.fc2(x)\n",
    "        x = self.fc3(x)\n",
    "        return x"
   ]
  },
  {
   "attachments": {},
   "cell_type": "markdown",
   "metadata": {},
   "source": [
    "### 设定参数并训练模型"
   ]
  },
  {
   "cell_type": "code",
   "execution_count": 14,
   "metadata": {},
   "outputs": [
    {
     "name": "stdout",
     "output_type": "stream",
     "text": [
      "============== Starting Training ==============\n"
     ]
    },
    {
     "ename": "AttributeError",
     "evalue": "'DataFrame' object has no attribute 'append'",
     "output_type": "error",
     "traceback": [
      "\u001b[1;31m---------------------------------------------------------------------------\u001b[0m",
      "\u001b[1;31mAttributeError\u001b[0m                            Traceback (most recent call last)",
      "Cell \u001b[1;32mIn[14], line 48\u001b[0m\n\u001b[0;32m     45\u001b[0m fl_loss \u001b[39m=\u001b[39m \u001b[39mfloat\u001b[39m(nd_loss)\u001b[39m/\u001b[39m\u001b[39m24.0\u001b[39m\n\u001b[0;32m     47\u001b[0m \u001b[39m# 将计算结果逐行插入result,注意变量要用[]括起来,同时ignore_index=True，否则会报错，ValueError: If using all scalar values, you must pass an index\u001b[39;00m\n\u001b[1;32m---> 48\u001b[0m result\u001b[39m=\u001b[39mresult\u001b[39m.\u001b[39;49mappend(pd\u001b[39m.\u001b[39mDataFrame({\u001b[39m'\u001b[39m\u001b[39m_epoch\u001b[39m\u001b[39m'\u001b[39m:[epoch],\u001b[39m'\u001b[39m\u001b[39m_loss\u001b[39m\u001b[39m'\u001b[39m:fl_loss,\u001b[39m'\u001b[39m\u001b[39m_mae\u001b[39m\u001b[39m'\u001b[39m:Mae,\u001b[39m'\u001b[39m\u001b[39m_mse\u001b[39m\u001b[39m'\u001b[39m:Mse,\n\u001b[0;32m     49\u001b[0m                                    \u001b[39m'\u001b[39m\u001b[39mval_mae\u001b[39m\u001b[39m'\u001b[39m:Val_Mae,\u001b[39m'\u001b[39m\u001b[39mval_mse\u001b[39m\u001b[39m'\u001b[39m:Val_Mse}),ignore_index\u001b[39m=\u001b[39m\u001b[39mTrue\u001b[39;00m)\n\u001b[0;32m     51\u001b[0m \u001b[39mif\u001b[39;00m epoch\u001b[39m%\u001b[39m\u001b[39m10\u001b[39m\u001b[39m==\u001b[39m\u001b[39m0\u001b[39m:\n\u001b[0;32m     52\u001b[0m     \u001b[39mprint\u001b[39m(\u001b[39m'\u001b[39m\u001b[39mepoch:\u001b[39m\u001b[39m{0}\u001b[39;00m\u001b[39m,loss:\u001b[39m\u001b[39m{1}\u001b[39;00m\u001b[39m,mae:\u001b[39m\u001b[39m{2}\u001b[39;00m\u001b[39m,mse:\u001b[39m\u001b[39m{3}\u001b[39;00m\u001b[39m,val_mae:\u001b[39m\u001b[39m{4}\u001b[39;00m\u001b[39m,val_mse:\u001b[39m\u001b[39m{5}\u001b[39;00m\u001b[39m'\u001b[39m\u001b[39m.\u001b[39mformat(epoch,fl_loss,Mae,Mse,\n\u001b[0;32m     53\u001b[0m                                                                                            Val_Mae,Val_Mse))\n",
      "File \u001b[1;32md:\\ProgramData\\Anaconda3\\envs\\deeplearning\\lib\\site-packages\\pandas\\core\\generic.py:5989\u001b[0m, in \u001b[0;36mNDFrame.__getattr__\u001b[1;34m(self, name)\u001b[0m\n\u001b[0;32m   5982\u001b[0m \u001b[39mif\u001b[39;00m (\n\u001b[0;32m   5983\u001b[0m     name \u001b[39mnot\u001b[39;00m \u001b[39min\u001b[39;00m \u001b[39mself\u001b[39m\u001b[39m.\u001b[39m_internal_names_set\n\u001b[0;32m   5984\u001b[0m     \u001b[39mand\u001b[39;00m name \u001b[39mnot\u001b[39;00m \u001b[39min\u001b[39;00m \u001b[39mself\u001b[39m\u001b[39m.\u001b[39m_metadata\n\u001b[0;32m   5985\u001b[0m     \u001b[39mand\u001b[39;00m name \u001b[39mnot\u001b[39;00m \u001b[39min\u001b[39;00m \u001b[39mself\u001b[39m\u001b[39m.\u001b[39m_accessors\n\u001b[0;32m   5986\u001b[0m     \u001b[39mand\u001b[39;00m \u001b[39mself\u001b[39m\u001b[39m.\u001b[39m_info_axis\u001b[39m.\u001b[39m_can_hold_identifiers_and_holds_name(name)\n\u001b[0;32m   5987\u001b[0m ):\n\u001b[0;32m   5988\u001b[0m     \u001b[39mreturn\u001b[39;00m \u001b[39mself\u001b[39m[name]\n\u001b[1;32m-> 5989\u001b[0m \u001b[39mreturn\u001b[39;00m \u001b[39mobject\u001b[39;49m\u001b[39m.\u001b[39;49m\u001b[39m__getattribute__\u001b[39;49m(\u001b[39mself\u001b[39;49m, name)\n",
      "\u001b[1;31mAttributeError\u001b[0m: 'DataFrame' object has no attribute 'append'"
     ]
    }
   ],
   "source": [
    "# 定义网络，损失函数，评估指标，优化器\n",
    "network = Regression_car()\n",
    "net_loss = nn.MSELoss()\n",
    "net_opt = nn.RMSProp(network.trainable_params(), 0.001)\n",
    "\n",
    "# 使用单步训练的方式来使结果中打印出MAE、MSE\n",
    "# Cell是所有神经网络的基类。Cell可以是一个单一的神经网络单元，如conv2d、relu、batch_norm等，也可以是一个用于构建网络的单元的组合。\n",
    "# WithLossCell意味着使用损耗函数对网络进行包裹。此单元接受数据和标签作为输入，并返回计算的损耗。\n",
    "with_loss=nn.WithLossCell(network, net_loss) \n",
    "train_step = nn.TrainOneStepCell(with_loss, net_opt).set_train()\n",
    "# WithEvalCell返回loss、输出和标签的单元，用于评估。此单元接受网络和loss函数作为参数，并计算模型的loss。它返回loss、输出和标签来计算度量。\n",
    "evalcell=nn.WithEvalCell(network,net_loss)\n",
    "# 创建指标类\n",
    "mae = nn.MAE()\n",
    "mse = nn.MSE()\n",
    "val_mae = nn.MAE()\n",
    "val_mse = nn.MSE()\n",
    "    \n",
    "# 创建一个空的Dataframe\n",
    "result =pd.DataFrame(columns=('_epoch','_loss','_mae','_mse','val_mae','val_mse'))\n",
    "print(\"============== Starting Training ==============\")\n",
    "for epoch in range(300):\n",
    "    # 利用train_step去接收训练集，更新网络参数得到loss值\n",
    "    loss = train_step(ds_xtrain,ds_ytrain)\n",
    "    # 利用evalcell接收训练集获取训练过程的输出用于计算mae和mse，接收测试集获取测试集输出\n",
    "    _, outputs, label = evalcell(ds_xtrain,ds_ytrain)\n",
    "    _, val_outputs, val_label = evalcell(ds_xtest,ds_ytest)\n",
    "    \n",
    "    # 每次循环都更新MAE、MSE等的值。\n",
    "    mae.clear()\n",
    "    mae.update(outputs, label)\n",
    "    mse.clear()\n",
    "    mse.update(outputs, label)\n",
    "    val_mae.clear()\n",
    "    val_mae.update(val_outputs, val_label)\n",
    "    val_mse.clear()\n",
    "    val_mse.update(val_outputs, val_label)\n",
    "    \n",
    "    Mae = mae.eval()\n",
    "    Mse = mse.eval()\n",
    "    Val_Mae = val_mae.eval()\n",
    "    Val_Mse = val_mse.eval()\n",
    "    \n",
    "    nd_loss = loss.asnumpy()\n",
    "    fl_loss = float(nd_loss)/24.0\n",
    "\n",
    "    # 将计算结果逐行插入result,注意变量要用[]括起来,同时ignore_index=True，否则会报错，ValueError: If using all scalar values, you must pass an index\n",
    "    result=result.append(pd.DataFrame({'_epoch':[epoch],'_loss':fl_loss,'_mae':Mae,'_mse':Mse,\n",
    "                                       'val_mae':Val_Mae,'val_mse':Val_Mse}),ignore_index=True)\n",
    "\n",
    "    if epoch%10==0:\n",
    "        print('epoch:{0},loss:{1},mae:{2},mse:{3},val_mae:{4},val_mse:{5}'.format(epoch,fl_loss,Mae,Mse,\n",
    "                                                                                               Val_Mae,Val_Mse))\n",
    "        print(\"*\" * 110)\n",
    "print(result)"
   ]
  },
  {
   "attachments": {},
   "cell_type": "markdown",
   "metadata": {},
   "source": [
    "### 查看模型训练状态"
   ]
  },
  {
   "cell_type": "code",
   "execution_count": 15,
   "metadata": {},
   "outputs": [
    {
     "data": {
      "image/png": "[encoded data removed]",
      "text/plain": [
       "<Figure size 640x480 with 1 Axes>"
      ]
     },
     "metadata": {},
     "output_type": "display_data"
    },
    {
     "data": {
      "image/png": "[encoded data removed]",
      "text/plain": [
       "<Figure size 640x480 with 1 Axes>"
      ]
     },
     "metadata": {},
     "output_type": "display_data"
    }
   ],
   "source": [
    "# 绘制模型损失函数图\n",
    "def plot_history(result):\n",
    "\n",
    "    plt.figure()\n",
    "    plt.xlabel('Epoch')\n",
    "    plt.ylabel('Mean Abs Error [MPG]')\n",
    "    plt.plot(result['_epoch'], result['_mae'],\n",
    "           label='Train Error')\n",
    "    plt.plot(result['_epoch'], result['val_mae'],\n",
    "           label = 'Val Error')\n",
    "    plt.ylim([0,20])\n",
    "    plt.legend()\n",
    "\n",
    "    plt.figure()\n",
    "    plt.xlabel('Epoch')\n",
    "    plt.ylabel('Mean Square Error [$MPG^2$]')\n",
    "    plt.plot(result['_epoch'], result['_mse'],\n",
    "           label='Train Error')\n",
    "    plt.plot(result['_epoch'], result['val_mse'],\n",
    "           label = 'Val Error')\n",
    "    plt.ylim([0,200])\n",
    "    plt.legend()\n",
    "    plt.show()\n",
    "\n",
    "\n",
    "plot_history(result)"
   ]
  }
 ],
 "metadata": {
  "kernelspec": {
   "display_name": "deeplearning",
   "language": "python",
   "name": "python3"
  },
  "language_info": {
   "codemirror_mode": {
    "name": "ipython",
    "version": 3
   },
   "file_extension": ".py",
   "mimetype": "text/x-python",
   "name": "python",
   "nbconvert_exporter": "python",
   "pygments_lexer": "ipython3",
   "version": "3.8.17"
  },
  "orig_nbformat": 4
 },
 "nbformat": 4,
 "nbformat_minor": 2
}
